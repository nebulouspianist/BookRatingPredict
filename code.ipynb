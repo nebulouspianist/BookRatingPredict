{
 "cells": [
  {
   "cell_type": "code",
   "execution_count": 114,
   "id": "1d5f7543",
   "metadata": {},
   "outputs": [],
   "source": [
    "import json\n",
    "import gzip\n",
    "from collections import defaultdict\n",
    "import math\n",
    "import scipy.optimize\n",
    "from sklearn import svm\n",
    "import numpy\n",
    "import string\n",
    "import random\n",
    "import string\n",
    "from sklearn import linear_model\n",
    "import matplotlib.pyplot as plt\n",
    "from nltk.stem.porter import *"
   ]
  },
  {
   "cell_type": "code",
   "execution_count": 2,
   "id": "843e8d99",
   "metadata": {},
   "outputs": [],
   "source": [
    "def assertFloat(x):\n",
    "    assert type(float(x)) == float\n",
    "\n",
    "def assertFloatList(items, N):\n",
    "    assert len(items) == N\n",
    "    assert [type(float(x)) for x in items] == [float]*N"
   ]
  },
  {
   "cell_type": "code",
   "execution_count": 3,
   "id": "d09fa346",
   "metadata": {},
   "outputs": [],
   "source": [
    "def readGz(path):\n",
    "    for l in gzip.open(path, 'rt'):\n",
    "        yield eval(l)"
   ]
  },
  {
   "cell_type": "code",
   "execution_count": 4,
   "id": "9ed107be",
   "metadata": {},
   "outputs": [],
   "source": [
    "def readCSV(path):\n",
    "    f = gzip.open(path, 'rt')\n",
    "    f.readline()\n",
    "    for l in f:\n",
    "        u,b,r = l.strip().split(',')\n",
    "        r = int(r)\n",
    "        yield u,b,r"
   ]
  },
  {
   "cell_type": "code",
   "execution_count": 1,
   "id": "d8a31cb7",
   "metadata": {},
   "outputs": [],
   "source": [
    "# f = open(\"ratebeer.json\")\n",
    "\n",
    "# # f = urllib.request.urlopen(\"https://cseweb.ucsd.edu/classes/fa22/cse258-a/data/beer_50000.json\")\n",
    "\n",
    "# count = 0\n",
    "# dataset = []\n",
    "# for l in f:\n",
    "# #     if 'user/gender' in l:\n",
    "# #         dataset.append(eval(l))\n",
    "\n",
    "#     if count > 300000:\n",
    "#         break\n",
    "#     dataset.append((eval(l)))\n",
    "#     count += 1"
   ]
  },
  {
   "cell_type": "code",
   "execution_count": 64,
   "id": "052066cd",
   "metadata": {},
   "outputs": [],
   "source": [
    "# f = open(\"goodreads_reviews_comics_graphic.json\")\n",
    "f = open(\"goodreads_reviews_young_adult.json\")\n",
    "\n",
    "# f = urllib.request.urlopen(\"https://cseweb.ucsd.edu/classes/fa22/cse258-a/data/beer_50000.json\")\n",
    "\n",
    "count = 0\n",
    "dataset = []\n",
    "for l in f:\n",
    "#     if 'user/gender' in l:\n",
    "#         dataset.append(eval(l))\n",
    "\n",
    "    if count >= 500000:\n",
    "        break\n",
    "    dataset.append((eval(l)))\n",
    "    count += 1\n",
    "    \n"
   ]
  },
  {
   "cell_type": "code",
   "execution_count": 65,
   "id": "619f92fa",
   "metadata": {},
   "outputs": [],
   "source": [
    "random.shuffle(dataset)"
   ]
  },
  {
   "cell_type": "code",
   "execution_count": 90,
   "id": "4c3c0292",
   "metadata": {},
   "outputs": [
    {
     "name": "stdout",
     "output_type": "stream",
     "text": [
      "500000\n",
      "dict_keys(['user_id', 'book_id', 'review_id', 'rating', 'review_text', 'date_added', 'date_updated', 'read_at', 'started_at', 'n_votes', 'n_comments'])\n",
      "658c6842eb35e342f56405622a18c795\n",
      "2206960\n",
      "Love, love, love this book. Skate and Frank will make you hungry, Barney and Lorry will make you want puppies, Rosie will make you want to use a lot of exclamation points (!!!) Realistic fiction for which the cataloging description \"children of alcoholics\" was tailor-made, where love fizzles and blooms again, and Drama Queen dishes advice that sounds like it won't work, but does, if you use it right. This is a keeper. It's going right next to my copy of \n",
      " ... teachers and librarians, this is for older teens (some sex, drugs, and alcohol involved), not middies.\n",
      "5\n"
     ]
    }
   ],
   "source": [
    "print(len(dataset))\n",
    "\n",
    "print(dataset[0].keys())\n",
    "print(dataset[0]['user_id'])\n",
    "print(dataset[0]['book_id'])\n",
    "\n",
    "\n",
    "print(dataset[9]['review_text'])\n",
    "print(dataset[9]['rating'])\n"
   ]
  },
  {
   "cell_type": "code",
   "execution_count": null,
   "id": "d86e762b",
   "metadata": {},
   "outputs": [],
   "source": []
  },
  {
   "cell_type": "code",
   "execution_count": 67,
   "id": "3ebd22dc",
   "metadata": {},
   "outputs": [],
   "source": [
    "def MSE(y, ypred):\n",
    "    return sum([(a-b)**2 for (a,b) in zip(y,ypred)]) / len(y)"
   ]
  },
  {
   "cell_type": "code",
   "execution_count": 68,
   "id": "9e1c534e",
   "metadata": {},
   "outputs": [],
   "source": [
    "dataTrain = dataset[:400000]\n",
    "dataValid = dataset[400000:450000]\n",
    "dataTest = dataset[450000:500000]"
   ]
  },
  {
   "cell_type": "code",
   "execution_count": 150,
   "id": "2814b8c4",
   "metadata": {},
   "outputs": [
    {
     "data": {
      "text/plain": [
       "Text(0.5, 1.0, 'Rating distribution')"
      ]
     },
     "execution_count": 150,
     "metadata": {},
     "output_type": "execute_result"
    },
    {
     "data": {
      "image/png": "[encoded data removed]",
      "text/plain": [
       "<Figure size 432x288 with 1 Axes>"
      ]
     },
     "metadata": {
      "needs_background": "light"
     },
     "output_type": "display_data"
    }
   ],
   "source": [
    "ratings = [d['rating'] for d in dataTrain]\n",
    "\n",
    "ratings_count = {}\n",
    "\n",
    "ratings_count = {rating:0 for rating in [i for i in range(0, 5+1)]}\n",
    "\n",
    "\n",
    "for r in ratings:\n",
    "    ratings_count[r] += 1\n",
    "    \n",
    "plt.bar(ratings_count.keys(), ratings_count.values())\n",
    "plt.xlabel(\"Rating\")\n",
    "plt.ylabel(\"Count\")\n",
    "plt.title(\"Rating distribution\")\n",
    " \n",
    "\n"
   ]
  },
  {
   "cell_type": "code",
   "execution_count": 158,
   "id": "1edbaa08",
   "metadata": {},
   "outputs": [
    {
     "name": "stdout",
     "output_type": "stream",
     "text": [
      "[(0, 3.7178831650262048), (1, 3.7841849468015236), (2, 3.7645997163852005), (3, 3.6500379568376533), (4, 3.7162395268605226), (5, 3.7360317854482243), (6, 3.7389003613835827), (7, 3.7694637223974765), (8, 3.8035339182009142), (9, 3.748055180997822)]\n",
      "[(0, 3.7178831650262048), (1, 3.7841849468015236), (2, 3.7645997163852005), (3, 3.6500379568376533), (4, 3.7162395268605226), (5, 3.7360317854482243), (6, 3.7389003613835827), (7, 3.7694637223974765), (8, 3.8035339182009142), (9, 3.748055180997822)]\n"
     ]
    }
   ],
   "source": [
    "ratings_per_length = defaultdict(list)\n",
    "\n",
    "for d in dataTrain:\n",
    "    ratings_per_length[len(d['review_text']) % 50].append(d['rating'])\n",
    "\n",
    "for key, value in ratings_per_length.items():\n",
    "    ratings_per_length[key] = sum(value)/len(value)\n",
    "\n",
    "    \n",
    "    \n",
    "temp = list(ratings_per_length.items())\n",
    "\n",
    "temp.sort()\n",
    "print(temp[:10])\n",
    "\n",
    "print(temp[:10])\n",
    "# from collections import OrderedDict\n",
    "# import numpy as np\n",
    "\n",
    "# ordered_length = OrderedDict(sorted(ratings_per_length.items()))"
   ]
  },
  {
   "cell_type": "code",
   "execution_count": 161,
   "id": "45faae5e",
   "metadata": {},
   "outputs": [
    {
     "data": {
      "text/plain": [
       "Text(0.5, 1.0, 'Average rating per review length')"
      ]
     },
     "execution_count": 161,
     "metadata": {},
     "output_type": "execute_result"
    },
    {
     "data": {
      "image/png": "[encoded data removed]",
      "text/plain": [
       "<Figure size 432x288 with 1 Axes>"
      ]
     },
     "metadata": {
      "needs_background": "light"
     },
     "output_type": "display_data"
    }
   ],
   "source": [
    "x = [i[0] for i in temp]\n",
    "y = [i[1] for i in temp]\n",
    "\n",
    "\n",
    "\n",
    "plt.plot(x, y)\n",
    "plt.xlabel(\"Review length (unit: 50 word length)\")\n",
    "plt.ylabel(\"Avg rating\")\n",
    "plt.title(\"Average rating per review length\")\n",
    "\n"
   ]
  },
  {
   "cell_type": "code",
   "execution_count": null,
   "id": "4ee3a6d4",
   "metadata": {},
   "outputs": [],
   "source": []
  },
  {
   "cell_type": "code",
   "execution_count": null,
   "id": "6662380a",
   "metadata": {},
   "outputs": [],
   "source": []
  },
  {
   "cell_type": "code",
   "execution_count": null,
   "id": "55a05cd8",
   "metadata": {},
   "outputs": [],
   "source": []
  },
  {
   "cell_type": "code",
   "execution_count": 162,
   "id": "a9ae50f1",
   "metadata": {},
   "outputs": [
    {
     "name": "stdout",
     "output_type": "stream",
     "text": [
      "3.7558975\n",
      "1.5121064725058395\n"
     ]
    }
   ],
   "source": [
    "#baseline 1, always predict global average\n",
    "\n",
    "ratings = [d['rating'] for d in dataTrain]\n",
    "\n",
    "globalAvg = sum(ratings)/len(ratings)\n",
    "\n",
    "\n",
    "\n",
    "y = []\n",
    "prediction = []\n",
    "\n",
    "for d2 in dataTest:\n",
    "    \n",
    "    y.append(d2['rating'])\n",
    "    prediction.append(globalAvg)\n",
    "    \n",
    "mse = MSE(y,prediction)\n",
    "\n",
    "print(globalAvg)\n",
    "print(mse)\n",
    "    "
   ]
  },
  {
   "cell_type": "code",
   "execution_count": 151,
   "id": "3fc43ecc",
   "metadata": {},
   "outputs": [
    {
     "name": "stdout",
     "output_type": "stream",
     "text": [
      "1.5734\n"
     ]
    }
   ],
   "source": [
    "#baseline 1, always predict the majority of ratings\n",
    "\n",
    "ratings = [d['rating'] for d in dataTrain]\n",
    "\n",
    "globalAvg = sum(ratings)/len(ratings)\n",
    "\n",
    "\n",
    "\n",
    "y = []\n",
    "prediction = []\n",
    "\n",
    "for d2 in dataTest:\n",
    "    \n",
    "    y.append(d2['rating'])\n",
    "    prediction.append(4)\n",
    "    \n",
    "mse = MSE(y,prediction)\n",
    "\n",
    "print(mse)"
   ]
  },
  {
   "cell_type": "code",
   "execution_count": 71,
   "id": "5e2fad72",
   "metadata": {},
   "outputs": [
    {
     "name": "stdout",
     "output_type": "stream",
     "text": [
      "1.3068304969368594\n"
     ]
    }
   ],
   "source": [
    "#baseline 2, always predict user average\n",
    "\n",
    "ratingsPerUser = defaultdict(list)\n",
    "ratingsPerItem = defaultdict(list)\n",
    "\n",
    "for d in dataTrain:\n",
    "    u,i = d['user_id'],d['book_id']\n",
    "    ratingsPerUser[u].append(d['rating'])\n",
    "    ratingsPerItem[i].append(d['rating'])\n",
    "    \n",
    "\n",
    "y = []\n",
    "prediction = []\n",
    "\n",
    "for d in dataTest:\n",
    "    y.append(d['rating'])\n",
    "    \n",
    "    if d['user_id'] in ratingsPerUser:\n",
    "#         print('got here')\n",
    "        avg = sum(ratingsPerUser[d['user_id']]) / len(ratingsPerUser[d['user_id']])\n",
    "        prediction.append(avg)\n",
    "    else:\n",
    "        prediction.append(globalAvg)\n",
    "        \n",
    "\n",
    "mse = MSE(y,prediction)\n",
    "\n",
    "print(mse)\n"
   ]
  },
  {
   "cell_type": "code",
   "execution_count": 72,
   "id": "fbde556c",
   "metadata": {},
   "outputs": [
    {
     "name": "stdout",
     "output_type": "stream",
     "text": [
      "1.473998373541911\n"
     ]
    }
   ],
   "source": [
    "#baseline 3, always predict item average\n",
    "\n",
    "y = []\n",
    "prediction = []\n",
    "\n",
    "for d in dataTest:\n",
    "    y.append(d['rating'])\n",
    "    \n",
    "    if d['book_id']in ratingsPerItem:\n",
    "        avg = sum(ratingsPerItem[d['book_id']]) / len(ratingsPerItem[d['book_id']])\n",
    "        prediction.append(avg)\n",
    "    else:\n",
    "        prediction.append(globalAvg)\n",
    "        \n",
    "\n",
    "mse = MSE(y,prediction)\n",
    "\n",
    "print(mse)"
   ]
  },
  {
   "cell_type": "code",
   "execution_count": 78,
   "id": "4e94a600",
   "metadata": {},
   "outputs": [
    {
     "name": "stdout",
     "output_type": "stream",
     "text": [
      "1.5121141106160725\n"
     ]
    }
   ],
   "source": [
    "#test model 1: regression with the length of the review text\n",
    "\n",
    "\n",
    "def feature(data):\n",
    "    \n",
    "    x = [1]\n",
    "    \n",
    "    x.append(len(data['review_text']))\n",
    "    return x\n",
    "\n",
    "x = []\n",
    "y = []\n",
    "\n",
    "# print(dataTrain[0]['review_text'])\n",
    "\n",
    "\n",
    "xTrain = [feature(d) for d in dataTrain]\n",
    "\n",
    "yTrain = [d['rating'] for d in dataTrain]\n",
    "\n",
    "mod = linear_model.LinearRegression()\n",
    "mod.fit(xTrain,yTrain)\n",
    "\n",
    "\n",
    "xTest = [feature(d) for d in dataTrain]\n",
    "\n",
    "yTest = [d['rating'] for d in dataTest]\n",
    "yPred = mod.predict(xTest)\n",
    "\n",
    "mse = MSE(yTest, yPred)\n",
    "\n",
    "print(mse)\n",
    "\n",
    "\n",
    "\n",
    "\n"
   ]
  },
  {
   "cell_type": "code",
   "execution_count": 142,
   "id": "4604a524",
   "metadata": {},
   "outputs": [],
   "source": [
    "#test model 2: similarity based model\n",
    "\n",
    "def Jaccard(s1, s2):\n",
    "    numer = len(s1.intersection(s2))\n",
    "    denom = len(s1.union(s2))\n",
    "    if denom == 0:\n",
    "        return 0\n",
    "    return numer / denom\n",
    "\n",
    "reviewsPerUser = defaultdict(list)\n",
    "usersPerItem = defaultdict(set)\n",
    "itemsPerUser = defaultdict(set)\n",
    "reviewsPerUser = defaultdict(list)\n",
    "reviewsPerItem = defaultdict(list)\n",
    "ratingsDict = {} # To retrieve a rating for a specific user/item pair\n",
    "ratingsPerItem = defaultdict(list)\n",
    "ratingsPerUser = defaultdict(list)\n",
    "\n",
    "for d in dataTrain:\n",
    "#     u,i = d['user_id'], d['book_id']\n",
    "#     reviewsPerUser[u].append(d)\n",
    "#     usersPerItem[i].add(u)\n",
    "    \n",
    "    \n",
    "    user = d['user_id']\n",
    "    item = d['book_id']\n",
    "    review = d['review_id']\n",
    "    rating = d['rating']\n",
    "    \n",
    "    usersPerItem[item].add(user)\n",
    "    itemsPerUser[user].add(item)\n",
    "    reviewsPerUser[user].append(d)\n",
    "    reviewsPerItem[item].append(d)\n",
    "    \n",
    "    ratingsDict[(user,item)] = rating\n",
    "    \n",
    "    ratingsPerItem[item].append(rating)\n",
    "    ratingsPerUser[user].append(rating)"
   ]
  },
  {
   "cell_type": "code",
   "execution_count": 144,
   "id": "7678f0e8",
   "metadata": {},
   "outputs": [
    {
     "name": "stdout",
     "output_type": "stream",
     "text": [
      "46684\n",
      "36086\n"
     ]
    }
   ],
   "source": [
    "print(len(usersPerItem))\n",
    "print(len(itemsPerUser))"
   ]
  },
  {
   "cell_type": "code",
   "execution_count": 83,
   "id": "5555be84",
   "metadata": {},
   "outputs": [],
   "source": [
    "average_all = sum([d['rating'] for d in dataTrain]) / len(dataTrain) \n",
    "\n",
    "# From my HW2 solution, welcome to reuse\n",
    "def predictRating(user,item):\n",
    "\n",
    "    averageRating_i = sum([d for d in ratingsPerItem[item]])/len(ratingsPerItem[item]) \\\n",
    "    if len(ratingsPerItem[item]) > 0 else average_all\n",
    "    \n",
    "    numerator = 0\n",
    "    denominator = 0\n",
    "    for j in itemsPerUser[user]:#item-id\n",
    "        if j == item:\n",
    "            continue\n",
    "        \n",
    "        averageRating_j = sum([d for d in ratingsPerItem[j]])/len(ratingsPerItem[j]) \\\n",
    "        if len(ratingsPerItem[j]) > 0 else average_all\n",
    "        \n",
    "        \n",
    "        R = ratingDict[(user,j)] if (user,j) in ratingDict else average_all\n",
    "        \n",
    "        numerator += (R - averageRating_j) * Jaccard(usersPerItem[item], usersPerItem[j])\n",
    "        denominator  += Jaccard(usersPerItem[item],usersPerItem[j])\n",
    "    \n",
    "    return averageRating_i + numerator/denominator if denominator > 0 else averageRating_i"
   ]
  },
  {
   "cell_type": "code",
   "execution_count": 84,
   "id": "e78a8092",
   "metadata": {},
   "outputs": [
    {
     "name": "stdout",
     "output_type": "stream",
     "text": [
      "1.3372250496310019\n"
     ]
    }
   ],
   "source": [
    "testUsers = [d['user_id'] for d in dataTest]\n",
    "\n",
    "predictions = []\n",
    "\n",
    "for d in dataTest:\n",
    "    predictions.append(predictRating(d['user_id'], d['book_id']))\n",
    "\n",
    "labels = [d['rating'] for d in dataTest]\n",
    "\n",
    "mse = MSE(predictions, labels)\n",
    "print(mse)"
   ]
  },
  {
   "cell_type": "code",
   "execution_count": 85,
   "id": "378beba5",
   "metadata": {},
   "outputs": [],
   "source": [
    "#test model 3: user item biased"
   ]
  },
  {
   "cell_type": "code",
   "execution_count": 94,
   "id": "55dd6eee",
   "metadata": {},
   "outputs": [],
   "source": [
    "N = len(ratingsDict)\n",
    "\n",
    "lamb = 1\n",
    "\n",
    "beta_user_dict = {}\n",
    "beta_book_dict = {}\n",
    "\n",
    "for d in dataTrain:\n",
    "    u = d['user_id']\n",
    "    b = d['book_id']\n",
    "    r = d['rating']\n",
    "    beta_user_dict[u] = 0\n",
    "    beta_book_dict[b] = 0\n",
    "\n",
    "def getAlpha():\n",
    "    result = 0\n",
    "    \n",
    "    for d in dataTrain:\n",
    "        \n",
    "        u = d['user_id']\n",
    "        b = d['book_id']\n",
    "        r = d['rating']\n",
    "        \n",
    "        result += (ratingsDict[(u,b)] - (beta_user_dict[u] + beta_book_dict[b]))\n",
    "    \n",
    "    \n",
    "    return result / N\n",
    "    \n",
    "#calculates a new beta_user value for all user, so updates the global beta_user_dict\n",
    "def getBetaUserForAll(alpha,lamb):\n",
    "    \n",
    "    for user in beta_user_dict.keys():\n",
    "        temp = 0\n",
    "        \n",
    "        for book in itemsPerUser[user]:\n",
    "            temp += (ratingsDict[(user,book)] - (alpha + beta_book_dict[book]))\n",
    "        \n",
    "        beta_user_dict[user] = temp /(lamb + len(itemsPerUser[user]))\n",
    "\n",
    "    \n",
    "        \n",
    "    \n",
    "\n",
    "def getBetaItemForAll(alpha,lamb):\n",
    "    \n",
    "    for book in beta_book_dict.keys():\n",
    "        temp = 0\n",
    "        \n",
    "        for user in usersPerItem[book]:\n",
    "            temp += (ratingsDict[(user,book)] - (alpha + beta_user_dict[user]))\n",
    "        \n",
    "        beta_book_dict[book] = temp / (lamb + len(usersPerItem[book]))"
   ]
  },
  {
   "cell_type": "code",
   "execution_count": 95,
   "id": "b987b890",
   "metadata": {},
   "outputs": [],
   "source": [
    "test_x = []\n",
    "test_alpha = []\n",
    "test_beta_u = []\n",
    "test_beta_i = []\n",
    "lamb = 1\n",
    "\n",
    "for i in range(300):\n",
    "    alpha = getAlpha()\n",
    "    getBetaUserForAll(alpha,lamb)\n",
    "    getBetaItemForAll(alpha,lamb)\n",
    "    \n",
    "    test_x.append(i)\n",
    "    test_alpha.append(alpha)\n",
    "    test_beta_u.append(beta_user_dict['658c6842eb35e342f56405622a18c795'])\n",
    "    test_beta_i.append(beta_book_dict['2206960'])"
   ]
  },
  {
   "cell_type": "code",
   "execution_count": 96,
   "id": "a36b1211",
   "metadata": {},
   "outputs": [
    {
     "data": {
      "text/plain": [
       "<matplotlib.legend.Legend at 0x7fcb681ffd00>"
      ]
     },
     "execution_count": 96,
     "metadata": {},
     "output_type": "execute_result"
    },
    {
     "data": {
      "image/png": "[encoded data removed]",
      "text/plain": [
       "<Figure size 432x288 with 1 Axes>"
      ]
     },
     "metadata": {
      "needs_background": "light"
     },
     "output_type": "display_data"
    }
   ],
   "source": [
    "plt.xlabel(\"Iteration\")\n",
    "plt.plot(test_x, test_alpha, label='Alpha')\n",
    "plt.legend()"
   ]
  },
  {
   "cell_type": "code",
   "execution_count": 97,
   "id": "8d621888",
   "metadata": {},
   "outputs": [
    {
     "data": {
      "text/plain": [
       "<matplotlib.legend.Legend at 0x7fcb699533a0>"
      ]
     },
     "execution_count": 97,
     "metadata": {},
     "output_type": "execute_result"
    },
    {
     "data": {
      "image/png": "[encoded data removed]",
      "text/plain": [
       "<Figure size 432x288 with 1 Axes>"
      ]
     },
     "metadata": {
      "needs_background": "light"
     },
     "output_type": "display_data"
    }
   ],
   "source": [
    "plt.xlabel(\"Iteration\")\n",
    "plt.plot(test_x, test_beta_u, label='beta_u')\n",
    "plt.legend()"
   ]
  },
  {
   "cell_type": "code",
   "execution_count": 98,
   "id": "3a92649b",
   "metadata": {},
   "outputs": [
    {
     "data": {
      "text/plain": [
       "<matplotlib.legend.Legend at 0x7fcb69ce7940>"
      ]
     },
     "execution_count": 98,
     "metadata": {},
     "output_type": "execute_result"
    },
    {
     "data": {
      "image/png": "[encoded data removed]",
      "text/plain": [
       "<Figure size 432x288 with 1 Axes>"
      ]
     },
     "metadata": {
      "needs_background": "light"
     },
     "output_type": "display_data"
    }
   ],
   "source": [
    "plt.xlabel(\"Iteration\")\n",
    "plt.plot(test_x, test_beta_i, label='beta_i')\n",
    "plt.legend()"
   ]
  },
  {
   "cell_type": "code",
   "execution_count": 99,
   "id": "6d25fcc3",
   "metadata": {},
   "outputs": [
    {
     "name": "stdout",
     "output_type": "stream",
     "text": [
      "1.1794046531161664\n"
     ]
    }
   ],
   "source": [
    "actual = []\n",
    "prediction = []\n",
    "\n",
    "alpha = getAlpha()\n",
    "\n",
    "for d in dataValid:\n",
    "    u = d['user_id']\n",
    "    b = d['book_id']\n",
    "    r = d['rating']\n",
    "    \n",
    "    actual.append(r)\n",
    "    \n",
    "    beta_u = beta_user_dict[u] if u in beta_user_dict else 0\n",
    "    beta_i = beta_book_dict[b] if b in beta_book_dict else 0\n",
    "    prediction.append(alpha + beta_u + beta_i)\n",
    "    \n",
    "validMSE = MSE(actual, prediction)\n",
    "print(validMSE)"
   ]
  },
  {
   "cell_type": "code",
   "execution_count": 101,
   "id": "4ebd8da5",
   "metadata": {},
   "outputs": [
    {
     "name": "stdout",
     "output_type": "stream",
     "text": [
      "0.01\n",
      "0.1\n",
      "1\n",
      "10\n",
      "100\n",
      "1000\n",
      "[1.2792743554849273, 1.255171101654157, 1.1794046531161664, 1.1657497811302127, 1.2899265646667548, 1.4396521364267758]\n"
     ]
    }
   ],
   "source": [
    "lambs = [0.01, 0.1,1,10, 100,1000]\n",
    "N = len(ratingsDict)\n",
    "\n",
    "mses = []\n",
    "for i in lambs:\n",
    "    \n",
    "    print(i)\n",
    "    \n",
    "    \n",
    "    lamb = i\n",
    "\n",
    "    beta_user_dict = {}\n",
    "    beta_book_dict = {}\n",
    "\n",
    "    for d in dataTrain:\n",
    "        u = d['user_id']\n",
    "        b = d['book_id']\n",
    "        r = d['rating']\n",
    "        beta_user_dict[u] = 0\n",
    "        beta_book_dict[b] = 0\n",
    "        \n",
    "    for i in range(300):\n",
    "        alpha = getAlpha()\n",
    "        getBetaUserForAll(alpha,lamb)\n",
    "        getBetaItemForAll(alpha,lamb)\n",
    "    \n",
    "    actual = []\n",
    "    prediction = []\n",
    "\n",
    "    alpha = getAlpha()\n",
    "\n",
    "    for d in dataValid:\n",
    "        u = d['user_id']\n",
    "        b = d['book_id']\n",
    "        r = d['rating']\n",
    "        \n",
    "        actual.append(r)\n",
    "\n",
    "        beta_u = beta_user_dict[u] if u in beta_user_dict else 0\n",
    "        beta_i = beta_book_dict[b] if b in beta_book_dict else 0\n",
    "        prediction.append(alpha + beta_u + beta_i)\n",
    "\n",
    "    testMSE = MSE(actual, prediction)\n",
    "    mses.append(testMSE)\n",
    "\n",
    "print(mses)"
   ]
  },
  {
   "cell_type": "code",
   "execution_count": 102,
   "id": "0586871e",
   "metadata": {},
   "outputs": [
    {
     "name": "stdout",
     "output_type": "stream",
     "text": [
      "2\n",
      "3\n",
      "5\n",
      "7\n",
      "9\n",
      "[1.160805624079588, 1.1551222574211752, 1.1544578587505208, 1.15817592681897, 1.1631261398787478]\n"
     ]
    }
   ],
   "source": [
    "lambs = [2,3,5,7,9]\n",
    "N = len(ratingsDict)\n",
    "\n",
    "mses = []\n",
    "for i in lambs:\n",
    "    \n",
    "    print(i)\n",
    "    \n",
    "    \n",
    "    lamb = i\n",
    "\n",
    "    beta_user_dict = {}\n",
    "    beta_book_dict = {}\n",
    "\n",
    "    for d in dataTrain:\n",
    "        u = d['user_id']\n",
    "        b = d['book_id']\n",
    "        r = d['rating']\n",
    "        beta_user_dict[u] = 0\n",
    "        beta_book_dict[b] = 0\n",
    "        \n",
    "    for i in range(300):\n",
    "        alpha = getAlpha()\n",
    "        getBetaUserForAll(alpha,lamb)\n",
    "        getBetaItemForAll(alpha,lamb)\n",
    "    \n",
    "    actual = []\n",
    "    prediction = []\n",
    "\n",
    "    alpha = getAlpha()\n",
    "\n",
    "    for d in dataValid:\n",
    "        u = d['user_id']\n",
    "        b = d['book_id']\n",
    "        r = d['rating']\n",
    "        \n",
    "        actual.append(r)\n",
    "\n",
    "        beta_u = beta_user_dict[u] if u in beta_user_dict else 0\n",
    "        beta_i = beta_book_dict[b] if b in beta_book_dict else 0\n",
    "        prediction.append(alpha + beta_u + beta_i)\n",
    "\n",
    "    testMSE = MSE(actual, prediction)\n",
    "    mses.append(testMSE)\n",
    "\n",
    "print(mses)"
   ]
  },
  {
   "cell_type": "code",
   "execution_count": 103,
   "id": "5c8ddbc6",
   "metadata": {},
   "outputs": [
    {
     "name": "stdout",
     "output_type": "stream",
     "text": [
      "3.5\n",
      "4\n",
      "4.5\n",
      "4.75\n",
      "[1.1541345090204622, 1.153824333837463, 1.1539778556141782, 1.1541836010278903]\n"
     ]
    }
   ],
   "source": [
    "lambs = [3.5,4,4.5,4.75]\n",
    "N = len(ratingsDict)\n",
    "\n",
    "mses = []\n",
    "for i in lambs:\n",
    "    \n",
    "    print(i)\n",
    "    \n",
    "    \n",
    "    lamb = i\n",
    "\n",
    "    beta_user_dict = {}\n",
    "    beta_book_dict = {}\n",
    "\n",
    "    for d in dataTrain:\n",
    "        u = d['user_id']\n",
    "        b = d['book_id']\n",
    "        r = d['rating']\n",
    "        beta_user_dict[u] = 0\n",
    "        beta_book_dict[b] = 0\n",
    "        \n",
    "    for i in range(300):\n",
    "        alpha = getAlpha()\n",
    "        getBetaUserForAll(alpha,lamb)\n",
    "        getBetaItemForAll(alpha,lamb)\n",
    "    \n",
    "    actual = []\n",
    "    prediction = []\n",
    "\n",
    "    alpha = getAlpha()\n",
    "\n",
    "    for d in dataValid:\n",
    "        u = d['user_id']\n",
    "        b = d['book_id']\n",
    "        r = d['rating']\n",
    "        \n",
    "        actual.append(r)\n",
    "\n",
    "        beta_u = beta_user_dict[u] if u in beta_user_dict else 0\n",
    "        beta_i = beta_book_dict[b] if b in beta_book_dict else 0\n",
    "        prediction.append(alpha + beta_u + beta_i)\n",
    "\n",
    "    testMSE = MSE(actual, prediction)\n",
    "    mses.append(testMSE)\n",
    "\n",
    "print(mses)"
   ]
  },
  {
   "cell_type": "code",
   "execution_count": 124,
   "id": "9d86eaf0",
   "metadata": {},
   "outputs": [
    {
     "name": "stdout",
     "output_type": "stream",
     "text": [
      "!\"#$%&'()*+,-./:;<=>?@[\\]^_`{|}~\n",
      "54551433\n",
      "54151836\n"
     ]
    }
   ],
   "source": [
    "stemmer = PorterStemmer()\n",
    "wordCount = defaultdict(int)\n",
    "word2Count = defaultdict(int)\n",
    "totalWords = 0\n",
    "totalWords2 = 0\n",
    "punct = string.punctuation\n",
    "print(punct)\n",
    "# print(dataset[0])\n",
    "\n",
    "for d in dataTrain:\n",
    "    t = d['review_text']\n",
    "    t = t.lower() # lowercase string\n",
    "    t = [c for c in t if not (c in punct)] # non-punct characters\n",
    "    t = ''.join(t) # convert back to string\n",
    "    words = t.strip().split() # tokenizes\n",
    "    words2 = [' '.join(x) for x in list(zip(words[:-1],words[1:]))] \n",
    "    for w in words:\n",
    "        \n",
    "        totalWords += 1\n",
    "        wordCount[w] += 1\n",
    "        \n",
    "    for w in words2:\n",
    "        totalWords2 += 1\n",
    "        word2Count[w] += 1\n",
    "        \n",
    "print(totalWords)\n",
    "print(totalWords2)\n"
   ]
  },
  {
   "cell_type": "code",
   "execution_count": 125,
   "id": "64c4ea74",
   "metadata": {},
   "outputs": [
    {
     "name": "stdout",
     "output_type": "stream",
     "text": [
      "501936\n",
      "[(2421645, 'the'), (1593197, 'and'), (1579380, 'i'), (1329267, 'to'), (1293552, 'a'), (1032094, 'of'), (833279, 'it'), (713619, 'this'), (709640, 'in'), (708499, 'is')]\n",
      "[(629, 'joined'), (629, 'flies'), (629, 'enters'), (628, 'trees'), (628, 'purchased'), (628, 'meer'), (627, 'underneath'), (627, 're'), (627, 'ragazza'), (627, 'nell')]\n",
      "6716311\n",
      "[(258402, 'this book'), (241315, 'of the'), (179906, 'in the'), (143935, 'it was'), (124251, 'the book'), (116617, 'i was'), (116100, 'and i'), (107862, 'to be'), (105293, 'and the'), (98357, 'the story')]\n",
      "[(1101, 'onto the'), (1100, 'they seem'), (1100, 'the stars'), (1099, 'years later'), (1099, 'weird and'), (1099, 'throne of'), (1099, 'personally i'), (1099, 'interesting characters'), (1099, 'im happy'), (1099, 'have so')]\n",
      "[(2421645, 'the'), (1593197, 'and'), (1579380, 'i'), (1329267, 'to'), (1293552, 'a'), (1032094, 'of'), (833279, 'it'), (713619, 'this'), (709640, 'in'), (708499, 'is')]\n",
      "[(1881, 'try and'), (1881, 'to reread'), (1881, 'text'), (1880, 'would say'), (1880, 'front of'), (1880, 'be found'), (1880, 'away and'), (1879, 'wouldnt be'), (1879, 'twice'), (1879, 'so its')]\n",
      "['the', 'and', 'i', 'to', 'a', 'of', 'it', 'this', 'in', 'is']\n",
      "['this book', 'of the', 'in the', 'it was', 'the book', 'i was', 'and i', 'to be', 'and the', 'the story']\n",
      "['the', 'and', 'i', 'to', 'a', 'of', 'it', 'this', 'in', 'is', 'that', 'was', 'book', 'but', 'her', 'for', 'with', 'she', 'so', 'as', 'me', 'not', 'you', 'this book', 'read', 'be', 'like', 'on', 'of the', 'have', 'my', 'just', 'really', 'one', 'about', 'story', 'all', 'are', 'more', 'at', 'what', 'in the', 'love', 'its', 'he', 'they', 'from', 'there', 'out', 'an']\n"
     ]
    }
   ],
   "source": [
    "print(len(wordCount))\n",
    "counts = [(wordCount[w], w) for w in wordCount]\n",
    "counts.sort()\n",
    "counts.reverse()\n",
    "print(counts[:10])\n",
    "print(counts[5000:5010])\n",
    "\n",
    "print(len(word2Count))\n",
    "counts2 = [(word2Count[w], w) for w in word2Count]\n",
    "counts2.sort()\n",
    "counts2.reverse()\n",
    "print(counts2[:10])\n",
    "print(counts2[5000:5010])\n",
    "\n",
    "countsadd = counts\n",
    "countsadd.extend(counts2)\n",
    "countsadd.sort()\n",
    "countsadd.reverse()\n",
    "print(countsadd[:10])\n",
    "print(countsadd[5000:5010])\n",
    "\n",
    "unigrams = [w[1] for w in counts[:1000]]\n",
    "print(unigrams[:10])\n",
    "unigramId = dict(zip(unigrams, range(len(unigrams))))\n",
    "unigramSet = set(unigrams)\n",
    "\n",
    "bigrams = [w[1] for w in counts2[:1000]]\n",
    "print(bigrams[:10])\n",
    "bigramId = dict(zip(bigrams, range(len(bigrams))))\n",
    "bigramSet = set(bigrams)\n",
    "\n",
    "combined = [w[1] for w in countsadd[:1000]]\n",
    "print(combined[:50])\n",
    "combinedId = dict(zip(combined, range(len(combined))))\n",
    "combinedSet = set(combined)"
   ]
  },
  {
   "cell_type": "code",
   "execution_count": 126,
   "id": "09c01fb4",
   "metadata": {},
   "outputs": [],
   "source": [
    "def feature_unigram(datum):\n",
    "    feat = [0]*len(unigrams)\n",
    "    r = ''.join([c for c in datum['review_text'].lower() if not c in punct])\n",
    "    ws = r.split()\n",
    "    \n",
    "    for w in ws :\n",
    "        \n",
    "        if w in unigrams:\n",
    "            feat[unigramId[w]] += 1\n",
    "    feat.append(1) #offset\n",
    "    return feat\n",
    "\n",
    "\n",
    "def feature_bigram(datum):\n",
    "    feat = [0]*len(bigrams)\n",
    "    r = ''.join([c for c in datum['review_text'].lower() if not c in punct])\n",
    "    ws = r.split()\n",
    "    ws2 = [' '.join(x) for x in list(zip(ws[:-1],ws[1:]))]\n",
    "   \n",
    "    for w in ws2 :\n",
    "        if w in bigrams:\n",
    "            feat[bigramId[w]] += 1\n",
    "    feat.append(1) #offset\n",
    "    return feat\n",
    "\n",
    "\n",
    "def feature_combined(datum):\n",
    "    feat = [0]*len(combined)\n",
    "    r = ''.join([c for c in datum['review_text'].lower() if not c in punct])\n",
    "    ws = r.split()\n",
    "    ws2 = [' '.join(x) for x in list(zip(ws[:-1],ws[1:]))]\n",
    "\n",
    "    for w in ws + ws2 :\n",
    "        \n",
    "        if w in combined:\n",
    "            feat[combinedId[w]] += 1\n",
    "    feat.append(1) #offset\n",
    "    return feat"
   ]
  },
  {
   "cell_type": "code",
   "execution_count": 163,
   "id": "e86d4ad7",
   "metadata": {},
   "outputs": [
    {
     "name": "stdout",
     "output_type": "stream",
     "text": [
      "[3, 5, 11, 5, 2, 0, 3, 0, 1, 0, 1, 2, 0, 1, 2, 1, 0, 0, 1, 0]\n",
      "[-0.00845176  0.00354154 -0.00226518 -0.00127897  0.00145464  0.00358557\n",
      "  0.00403733 -0.01336234  0.00841195  0.00289315  0.0043674  -0.00719683\n",
      "  0.01654257 -0.02114343 -0.00057829 -0.01672578 -0.0034812   0.00734639\n",
      "  0.01433373  0.00429534]\n",
      "MSEtrain =  1.2427536574335627\n",
      "MSEtest =  1.2534802794968676\n",
      "[(0.01654256706430839, 'constant_feat'), (0.008411954489346327, 'is'), (0.00436739713573368, 'a'), (0.0040373324621943325, 'things'), (0.00358556657419601, 'end'), (0.0035415415922456484, 'a'), (0.0028931538782052697, 'such'), (0.0014546447058327932, 'to'), (-0.001278969169012969, 'way'), (-0.00226518126970497, 'good')]\n",
      "[(0.0040373324621943325, 'things'), (0.00358556657419601, 'end'), (0.0035415415922456484, 'a'), (0.0028931538782052697, 'such'), (0.0014546447058327932, 'to'), (-0.001278969169012969, 'way'), (-0.00226518126970497, 'good'), (-0.007196827697535721, 'gem'), (-0.008451763859168498, 'what'), (-0.013362344487460839, 'noah')]\n"
     ]
    }
   ],
   "source": [
    "#unigram\n",
    "\n",
    "X_train = [feature_unigram(d) for d in dataTrain]\n",
    "y_train = [d['rating'] for d in dataTrain]\n",
    "print(X_train[0][:20])\n",
    "X_test = [feature_unigram(d) for d in dataTest]\n",
    "y_test = [d['rating'] for d in dataTest]\n",
    "\n",
    "\n",
    "clf = linear_model.Ridge(1.0, fit_intercept=False) # MSE + 1.0 l2\n",
    "clf.fit(X_train, y_train)\n",
    "theta = clf.coef_\n",
    "pred_train = clf.predict(X_train)\n",
    "MSEtrain = sum((y_train - pred_train)**2)/len(y_train)\n",
    "pred_test = clf.predict(X_test)\n",
    "MSEtest = sum((y_test - pred_test)**2)/len(y_test)\n",
    "print(theta[:20])\n",
    "print(\"MSEtrain = \",MSEtrain)\n",
    "print(\"MSEtest = \",MSEtest)\n",
    "\n",
    "weights = list(zip(theta, unigrams + ['constant_feat']))\n",
    "weights.sort()\n",
    "weights.reverse()\n",
    "print(weights[:10])\n",
    "print(weights[-10:])"
   ]
  },
  {
   "cell_type": "code",
   "execution_count": 170,
   "id": "ff4fd482",
   "metadata": {},
   "outputs": [
    {
     "name": "stdout",
     "output_type": "stream",
     "text": [
      "[(3.681639361663302, 'constant_feat'), (0.29513687122548404, '45'), (0.26849563824789097, 'wait'), (0.2674808768471193, 'wow'), (0.22153305578809715, 'highly'), (0.20824612728907332, 'fantastic'), (0.19998337223789725, '5'), (0.17868955054124855, 'loved'), (0.17327257551916705, 'awesome'), (0.1644959981000308, 'wonderful'), (0.16082511053673462, 'amazing')]\n",
      "[(-0.11256505434725689, 'pages'), (-0.1194402390243701, 'rating'), (-0.1212570584401547, 'couldnt'), (-0.13521319847163557, 'nothing'), (-0.14419936805820951, 'interest'), (-0.18060780298799683, 'annoying'), (-0.2013145508344305, '35'), (-0.22957135678829324, 'disappointed'), (-0.3186367614684295, 'finish'), (-0.3669879004575533, 'boring')]\n",
      "1001\n",
      "1000\n",
      "1001\n"
     ]
    }
   ],
   "source": [
    "weights = list(zip(theta, unigrams + ['constant_feat']))\n",
    "weights.sort()\n",
    "weights.reverse()\n",
    "print(weights[:11])\n",
    "print(weights[-10:])\n",
    "\n",
    "print(len(theta))\n",
    "print(len(unigrams))\n",
    "print(len(weights))"
   ]
  },
  {
   "cell_type": "code",
   "execution_count": 128,
   "id": "58417bfd",
   "metadata": {},
   "outputs": [
    {
     "name": "stdout",
     "output_type": "stream",
     "text": [
      "[0, 0, 0, 0, 0, 1, 1, 1, 0, 0, 0, 0, 0, 0, 1, 1, 0, 1, 0, 0]\n",
      "[ 0.01902711 -0.00056935  0.00654624 -0.01252823 -0.02008132  0.0139206\n",
      " -0.00530054 -0.00868789 -0.00169455 -0.00816178  0.01448593  0.00943482\n",
      " -0.03265857  0.00017892  0.00087171 -0.03082975  0.04042193  0.00185674\n",
      " -0.02823431  0.02252886]\n",
      "MSEtrain =  1.2582595568622652\n",
      "MSEtest =  1.268131968773179\n",
      "[(0.01902710904037674, 'what'), (0.014485928542855303, 'a'), (0.013920598004712886, 'end'), (0.009434822692431776, 'gem'), (0.006546244970783695, 'good')]\n",
      "[(-0.008161777995736672, 'such'), (-0.008687890910739295, 'noah'), (-0.012528228588451101, 'way'), (-0.020081323104258784, 'to'), (-0.03265857378294216, 'constant_feat')]\n"
     ]
    }
   ],
   "source": [
    "#bigram\n",
    "\n",
    "X_train = [feature_bigram(d) for d in dataTrain]\n",
    "y_train = [d['rating'] for d in dataTrain]\n",
    "print(X_train[0][:20])\n",
    "X_test = [feature_bigram(d) for d in dataTest]\n",
    "y_test = [d['rating'] for d in dataTest]\n",
    "\n",
    "\n",
    "clf = linear_model.Ridge(1.0, fit_intercept=False) # MSE + 1.0 l2\n",
    "clf.fit(X_train, y_train)\n",
    "theta = clf.coef_\n",
    "pred_train = clf.predict(X_train)\n",
    "MSEtrain = sum((y_train - pred_train)**2)/len(y_train)\n",
    "pred_test = clf.predict(X_test)\n",
    "MSEtest = sum((y_test - pred_test)**2)/len(y_test)\n",
    "print(theta[:20])\n",
    "print(\"MSEtrain = \",MSEtrain)\n",
    "print(\"MSEtest = \",MSEtest)\n",
    "\n",
    "weights = list(zip(theta, words + ['constant_feat']))\n",
    "weights.sort()\n",
    "weights.reverse()\n",
    "print(weights[:5])\n",
    "print(weights[-5:])"
   ]
  },
  {
   "cell_type": "code",
   "execution_count": 129,
   "id": "2251511f",
   "metadata": {},
   "outputs": [
    {
     "name": "stdout",
     "output_type": "stream",
     "text": [
      "[3, 5, 11, 5, 2, 0, 3, 0, 1, 0, 1, 2, 0, 1, 2, 1, 0, 0, 1, 0]\n",
      "[-0.00584763  0.00400016  0.00283239 -0.00218026  0.00142805  0.0007988\n",
      " -0.00208142 -0.0151843   0.00625376 -0.0059824   0.00227517 -0.0170849\n",
      "  0.04528335 -0.00449631 -0.00095322 -0.00256337  0.00258455  0.00555088\n",
      "  0.01137452  0.00592072]\n",
      "MSEtrain =  1.2111017451032198\n",
      "MSEtest =  1.226626594932868\n",
      "[(0.04528335165939631, 'constant_feat'), (0.006253763273504243, 'is'), (0.004000163746106162, 'a'), (0.0028323861025444097, 'good'), (0.002275171791615265, 'a')]\n",
      "[(-0.002180257245596036, 'way'), (-0.005847627408562655, 'what'), (-0.005982399431116008, 'such'), (-0.015184304351669944, 'noah'), (-0.01708490476809017, 'gem')]\n"
     ]
    }
   ],
   "source": [
    "#combined\n",
    "\n",
    "X_train = [feature_combined(d) for d in dataTrain]\n",
    "y_train = [d['rating'] for d in dataTrain]\n",
    "print(X_train[0][:20])\n",
    "X_test = [feature_combined(d) for d in dataTest]\n",
    "y_test = [d['rating'] for d in dataTest]\n",
    "\n",
    "\n",
    "\n",
    "clf = linear_model.Ridge(1.0, fit_intercept=False) # MSE + 1.0 l2\n",
    "clf.fit(X_train, y_train)\n",
    "theta = clf.coef_\n",
    "pred_train = clf.predict(X_train)\n",
    "MSEtrain = sum((y_train - pred_train)**2)/len(y_train)\n",
    "pred_test = clf.predict(X_test)\n",
    "MSEtest = sum((y_test - pred_test)**2)/len(y_test)\n",
    "print(theta[:20])\n",
    "print(\"MSEtrain = \",MSEtrain)\n",
    "print(\"MSEtest = \",MSEtest)\n",
    "\n",
    "weights = list(zip(theta, words + ['constant_feat']))\n",
    "weights.sort()\n",
    "weights.reverse()\n",
    "print(weights[:5])\n",
    "print(weights[-5:])"
   ]
  },
  {
   "cell_type": "code",
   "execution_count": 133,
   "id": "14d015b0",
   "metadata": {},
   "outputs": [],
   "source": [
    "#test model 4: combination of biased term and text sentiment analysis"
   ]
  },
  {
   "cell_type": "code",
   "execution_count": 136,
   "id": "052a33c4",
   "metadata": {},
   "outputs": [],
   "source": [
    "lamb = 4\n",
    "N = len(ratingsDict)\n",
    "\n",
    "beta_user_dict = {}\n",
    "beta_book_dict = {}\n",
    "\n",
    "for d in dataTrain:\n",
    "    u = d['user_id']\n",
    "    b = d['book_id']\n",
    "    r = d['rating']\n",
    "    beta_user_dict[u] = 0\n",
    "    beta_book_dict[b] = 0\n",
    "\n",
    "for i in range(300):\n",
    "    alpha = getAlpha()\n",
    "    getBetaUserForAll(alpha,lamb)\n",
    "    getBetaItemForAll(alpha,lamb)"
   ]
  },
  {
   "cell_type": "code",
   "execution_count": 175,
   "id": "c45a3677",
   "metadata": {},
   "outputs": [
    {
     "name": "stdout",
     "output_type": "stream",
     "text": [
      "0.4777076087609362\n"
     ]
    }
   ],
   "source": [
    "\n",
    "# print(beta_user_dict)\n",
    "\n",
    "prediction = []\n",
    "actual = []\n",
    "\n",
    "for i in range(len(dataTest)):\n",
    "    d = dataTest[i]\n",
    "    \n",
    "    u = d[\"user_id\"]\n",
    "    b = d['book_id']\n",
    "    r - d['rating']\n",
    "    \n",
    "    actual.append(r)\n",
    "    \n",
    "    offset_user = 0\n",
    "    offset_item = 0\n",
    "    \n",
    "    if u in beta_user_dict:\n",
    "        offset_user = beta_user_dict[u]\n",
    "    \n",
    "    if b in beta_book_dict:\n",
    "        offset_item = beta_book_dict[b]\n",
    "    \n",
    "    prediction.append(pred_test[i] + offset_item)\n",
    "\n",
    "mse = MSE(actual, prediction)\n",
    "\n",
    "print(mse)\n",
    "    \n",
    "    \n",
    "    "
   ]
  },
  {
   "cell_type": "code",
   "execution_count": null,
   "id": "45b4381d",
   "metadata": {},
   "outputs": [],
   "source": []
  }
 ],
 "metadata": {
  "kernelspec": {
   "display_name": "Python 3 (ipykernel)",
   "language": "python",
   "name": "python3"
  },
  "language_info": {
   "codemirror_mode": {
    "name": "ipython",
    "version": 3
   },
   "file_extension": ".py",
   "mimetype": "text/x-python",
   "name": "python",
   "nbconvert_exporter": "python",
   "pygments_lexer": "ipython3",
   "version": "3.9.12"
  }
 },
 "nbformat": 4,
 "nbformat_minor": 5
}
